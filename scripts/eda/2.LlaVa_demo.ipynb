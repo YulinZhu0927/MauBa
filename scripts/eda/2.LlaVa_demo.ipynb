{
 "cells": [
  {
   "cell_type": "code",
   "id": "initial_id",
   "metadata": {
    "collapsed": true,
    "ExecuteTime": {
     "end_time": "2025-03-13T05:20:00.864882Z",
     "start_time": "2025-03-13T05:19:28.293376Z"
    }
   },
   "source": [
    "import requests\n",
    "from PIL import Image\n",
    "\n",
    "import torch\n",
    "from transformers import AutoProcessor, AutoModelForPreTraining"
   ],
   "outputs": [],
   "execution_count": 1
  },
  {
   "metadata": {
    "ExecuteTime": {
     "end_time": "2025-03-13T06:18:03.574601600Z",
     "start_time": "2025-03-13T05:56:33.949605Z"
    }
   },
   "cell_type": "code",
   "source": [
    "model_id = \"OpenFace-CQUPT/Human_LLaVA\"\n",
    "cuda = 0\n",
    "model = AutoModelForPreTraining.from_pretrained(\"OpenFace-CQUPT/Human_LLaVA\", torch_dtype=torch.float16).to(cuda)\n",
    "\n",
    "processor = AutoProcessor.from_pretrained(model_id,trust_remote_code=True)"
   ],
   "id": "6f11932e9c3963af",
   "outputs": [
    {
     "data": {
      "text/plain": [
       "Loading checkpoint shards:   0%|          | 0/4 [00:00<?, ?it/s]"
      ],
      "application/vnd.jupyter.widget-view+json": {
       "version_major": 2,
       "version_minor": 0,
       "model_id": "fa190396f4ae4fc19723d036b8e27965"
      }
     },
     "metadata": {},
     "output_type": "display_data"
    }
   ],
   "execution_count": null
  },
  {
   "metadata": {},
   "cell_type": "code",
   "outputs": [],
   "execution_count": null,
   "source": "",
   "id": "80066a1a24d83997"
  }
 ],
 "metadata": {
  "kernelspec": {
   "display_name": "Python 3",
   "language": "python",
   "name": "python3"
  },
  "language_info": {
   "codemirror_mode": {
    "name": "ipython",
    "version": 2
   },
   "file_extension": ".py",
   "mimetype": "text/x-python",
   "name": "python",
   "nbconvert_exporter": "python",
   "pygments_lexer": "ipython2",
   "version": "2.7.6"
  }
 },
 "nbformat": 4,
 "nbformat_minor": 5
}
